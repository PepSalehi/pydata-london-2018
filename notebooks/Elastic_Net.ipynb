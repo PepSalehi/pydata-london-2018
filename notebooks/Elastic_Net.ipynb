{
 "cells": [
  {
   "cell_type": "code",
   "execution_count": 1,
   "metadata": {},
   "outputs": [],
   "source": [
    "import cvxpy as cvx\n",
    "import matplotlib.pyplot as plt\n",
    "import numpy as np\n",
    "import pandas as pd\n",
    "\n",
    "from itertools import product\n",
    "from sklearn import model_selection as ms\n",
    "\n",
    "%matplotlib inline"
   ]
  },
  {
   "cell_type": "markdown",
   "metadata": {},
   "source": [
    "# Data pre-processing"
   ]
  },
  {
   "cell_type": "markdown",
   "metadata": {},
   "source": [
    "Read in the *Child Health and Development Studies* data from the R package [`mosaicData`](https://cran.r-project.org/package=mosaicData)."
   ]
  },
  {
   "cell_type": "code",
   "execution_count": 2,
   "metadata": {},
   "outputs": [],
   "source": [
    "gestation = pd.read_csv('https://vincentarelbundock.github.io/Rdatasets/csv/mosaicData/Gestation.csv', index_col=0)"
   ]
  },
  {
   "cell_type": "markdown",
   "metadata": {},
   "source": [
    "Drop some columns."
   ]
  },
  {
   "cell_type": "code",
   "execution_count": 3,
   "metadata": {},
   "outputs": [],
   "source": [
    "gestation.drop(columns=['id', 'pluralty', 'outcome', 'date'], inplace=True)"
   ]
  },
  {
   "cell_type": "markdown",
   "metadata": {},
   "source": [
    "Check for missing values."
   ]
  },
  {
   "cell_type": "code",
   "execution_count": 4,
   "metadata": {},
   "outputs": [
    {
     "data": {
      "text/plain": [
       "dwt          0.403722\n",
       "dht          0.398058\n",
       "inc          0.100324\n",
       "wt.1         0.029126\n",
       "drace        0.025081\n",
       "ht           0.017799\n",
       "number       0.016990\n",
       "ded          0.010518\n",
       "gestation    0.010518\n",
       "time         0.008091\n",
       "smoke        0.008091\n",
       "dage         0.005663\n",
       "age          0.001618\n",
       "ed           0.000809\n",
       "race         0.000809\n",
       "marital      0.000000\n",
       "parity       0.000000\n",
       "wt           0.000000\n",
       "sex          0.000000\n",
       "dtype: float64"
      ]
     },
     "execution_count": 4,
     "metadata": {},
     "output_type": "execute_result"
    }
   ],
   "source": [
    "gestation.isnull().mean().sort_values(ascending=False)"
   ]
  },
  {
   "cell_type": "markdown",
   "metadata": {},
   "source": [
    "Drop variables with many missing values."
   ]
  },
  {
   "cell_type": "code",
   "execution_count": 5,
   "metadata": {},
   "outputs": [],
   "source": [
    "gestation.drop(columns=['dht', 'dwt', 'inc'], inplace=True)"
   ]
  },
  {
   "cell_type": "markdown",
   "metadata": {},
   "source": [
    "Drop observations with missing values."
   ]
  },
  {
   "cell_type": "code",
   "execution_count": 6,
   "metadata": {},
   "outputs": [],
   "source": [
    "gestation.dropna(inplace=True)"
   ]
  },
  {
   "cell_type": "markdown",
   "metadata": {},
   "source": [
    "Create dummies for categorical variables."
   ]
  },
  {
   "cell_type": "code",
   "execution_count": 7,
   "metadata": {},
   "outputs": [],
   "source": [
    "gestation = pd.get_dummies(gestation, columns=['race', 'ed', 'drace', 'ded', 'marital', 'smoke', 'time', 'number'], drop_first=True)"
   ]
  },
  {
   "cell_type": "code",
   "execution_count": 8,
   "metadata": {},
   "outputs": [
    {
     "data": {
      "text/html": [
       "<div>\n",
       "<style scoped>\n",
       "    .dataframe tbody tr th:only-of-type {\n",
       "        vertical-align: middle;\n",
       "    }\n",
       "\n",
       "    .dataframe tbody tr th {\n",
       "        vertical-align: top;\n",
       "    }\n",
       "\n",
       "    .dataframe thead th {\n",
       "        text-align: right;\n",
       "    }\n",
       "</style>\n",
       "<table border=\"1\" class=\"dataframe\">\n",
       "  <thead>\n",
       "    <tr style=\"text-align: right;\">\n",
       "      <th></th>\n",
       "      <th>gestation</th>\n",
       "      <th>sex</th>\n",
       "      <th>wt</th>\n",
       "      <th>parity</th>\n",
       "      <th>age</th>\n",
       "      <th>ht</th>\n",
       "      <th>wt.1</th>\n",
       "      <th>dage</th>\n",
       "      <th>race_1.0</th>\n",
       "      <th>race_2.0</th>\n",
       "      <th>...</th>\n",
       "      <th>time_8.0</th>\n",
       "      <th>time_9.0</th>\n",
       "      <th>number_1.0</th>\n",
       "      <th>number_2.0</th>\n",
       "      <th>number_3.0</th>\n",
       "      <th>number_4.0</th>\n",
       "      <th>number_5.0</th>\n",
       "      <th>number_6.0</th>\n",
       "      <th>number_7.0</th>\n",
       "      <th>number_8.0</th>\n",
       "    </tr>\n",
       "  </thead>\n",
       "  <tbody>\n",
       "    <tr>\n",
       "      <th>1</th>\n",
       "      <td>284.0</td>\n",
       "      <td>1</td>\n",
       "      <td>120</td>\n",
       "      <td>1</td>\n",
       "      <td>27.0</td>\n",
       "      <td>62.0</td>\n",
       "      <td>100.0</td>\n",
       "      <td>31.0</td>\n",
       "      <td>0</td>\n",
       "      <td>0</td>\n",
       "      <td>...</td>\n",
       "      <td>0</td>\n",
       "      <td>0</td>\n",
       "      <td>0</td>\n",
       "      <td>0</td>\n",
       "      <td>0</td>\n",
       "      <td>0</td>\n",
       "      <td>0</td>\n",
       "      <td>0</td>\n",
       "      <td>0</td>\n",
       "      <td>0</td>\n",
       "    </tr>\n",
       "    <tr>\n",
       "      <th>2</th>\n",
       "      <td>282.0</td>\n",
       "      <td>1</td>\n",
       "      <td>113</td>\n",
       "      <td>2</td>\n",
       "      <td>33.0</td>\n",
       "      <td>64.0</td>\n",
       "      <td>135.0</td>\n",
       "      <td>38.0</td>\n",
       "      <td>0</td>\n",
       "      <td>0</td>\n",
       "      <td>...</td>\n",
       "      <td>0</td>\n",
       "      <td>0</td>\n",
       "      <td>0</td>\n",
       "      <td>0</td>\n",
       "      <td>0</td>\n",
       "      <td>0</td>\n",
       "      <td>0</td>\n",
       "      <td>0</td>\n",
       "      <td>0</td>\n",
       "      <td>0</td>\n",
       "    </tr>\n",
       "    <tr>\n",
       "      <th>3</th>\n",
       "      <td>279.0</td>\n",
       "      <td>1</td>\n",
       "      <td>128</td>\n",
       "      <td>1</td>\n",
       "      <td>28.0</td>\n",
       "      <td>64.0</td>\n",
       "      <td>115.0</td>\n",
       "      <td>32.0</td>\n",
       "      <td>0</td>\n",
       "      <td>0</td>\n",
       "      <td>...</td>\n",
       "      <td>0</td>\n",
       "      <td>0</td>\n",
       "      <td>1</td>\n",
       "      <td>0</td>\n",
       "      <td>0</td>\n",
       "      <td>0</td>\n",
       "      <td>0</td>\n",
       "      <td>0</td>\n",
       "      <td>0</td>\n",
       "      <td>0</td>\n",
       "    </tr>\n",
       "    <tr>\n",
       "      <th>5</th>\n",
       "      <td>282.0</td>\n",
       "      <td>1</td>\n",
       "      <td>108</td>\n",
       "      <td>1</td>\n",
       "      <td>23.0</td>\n",
       "      <td>67.0</td>\n",
       "      <td>125.0</td>\n",
       "      <td>24.0</td>\n",
       "      <td>0</td>\n",
       "      <td>0</td>\n",
       "      <td>...</td>\n",
       "      <td>0</td>\n",
       "      <td>0</td>\n",
       "      <td>0</td>\n",
       "      <td>0</td>\n",
       "      <td>0</td>\n",
       "      <td>0</td>\n",
       "      <td>1</td>\n",
       "      <td>0</td>\n",
       "      <td>0</td>\n",
       "      <td>0</td>\n",
       "    </tr>\n",
       "    <tr>\n",
       "      <th>6</th>\n",
       "      <td>286.0</td>\n",
       "      <td>1</td>\n",
       "      <td>136</td>\n",
       "      <td>4</td>\n",
       "      <td>25.0</td>\n",
       "      <td>62.0</td>\n",
       "      <td>93.0</td>\n",
       "      <td>28.0</td>\n",
       "      <td>0</td>\n",
       "      <td>0</td>\n",
       "      <td>...</td>\n",
       "      <td>0</td>\n",
       "      <td>0</td>\n",
       "      <td>0</td>\n",
       "      <td>1</td>\n",
       "      <td>0</td>\n",
       "      <td>0</td>\n",
       "      <td>0</td>\n",
       "      <td>0</td>\n",
       "      <td>0</td>\n",
       "      <td>0</td>\n",
       "    </tr>\n",
       "  </tbody>\n",
       "</table>\n",
       "<p>5 rows × 65 columns</p>\n",
       "</div>"
      ],
      "text/plain": [
       "   gestation  sex   wt  parity   age    ht   wt.1  dage  race_1.0  race_2.0  \\\n",
       "1      284.0    1  120       1  27.0  62.0  100.0  31.0         0         0   \n",
       "2      282.0    1  113       2  33.0  64.0  135.0  38.0         0         0   \n",
       "3      279.0    1  128       1  28.0  64.0  115.0  32.0         0         0   \n",
       "5      282.0    1  108       1  23.0  67.0  125.0  24.0         0         0   \n",
       "6      286.0    1  136       4  25.0  62.0   93.0  28.0         0         0   \n",
       "\n",
       "      ...      time_8.0  time_9.0  number_1.0  number_2.0  number_3.0  \\\n",
       "1     ...             0         0           0           0           0   \n",
       "2     ...             0         0           0           0           0   \n",
       "3     ...             0         0           1           0           0   \n",
       "5     ...             0         0           0           0           0   \n",
       "6     ...             0         0           0           1           0   \n",
       "\n",
       "   number_4.0  number_5.0  number_6.0  number_7.0  number_8.0  \n",
       "1           0           0           0           0           0  \n",
       "2           0           0           0           0           0  \n",
       "3           0           0           0           0           0  \n",
       "5           0           1           0           0           0  \n",
       "6           0           0           0           0           0  \n",
       "\n",
       "[5 rows x 65 columns]"
      ]
     },
     "execution_count": 8,
     "metadata": {},
     "output_type": "execute_result"
    }
   ],
   "source": [
    "gestation.head()"
   ]
  },
  {
   "cell_type": "markdown",
   "metadata": {},
   "source": [
    "# Modelling"
   ]
  },
  {
   "cell_type": "markdown",
   "metadata": {},
   "source": [
    "Split data into training and test sets."
   ]
  },
  {
   "cell_type": "code",
   "execution_count": 9,
   "metadata": {},
   "outputs": [],
   "source": [
    "gestation_train, gestation_test = ms.train_test_split(gestation, test_size=0.2, random_state=42)"
   ]
  },
  {
   "cell_type": "markdown",
   "metadata": {},
   "source": [
    "Separate outcome from predictors."
   ]
  },
  {
   "cell_type": "code",
   "execution_count": 10,
   "metadata": {},
   "outputs": [],
   "source": [
    "X_train = gestation_train.drop(columns=['wt'])\n",
    "y_train = gestation_train['wt']"
   ]
  },
  {
   "cell_type": "code",
   "execution_count": 11,
   "metadata": {},
   "outputs": [],
   "source": [
    "X_test = gestation_test.drop(columns=['wt'])\n",
    "y_test = gestation_test['wt']"
   ]
  },
  {
   "cell_type": "markdown",
   "metadata": {},
   "source": [
    "Define the mean squared error as a function of the regression coefficients `betas` given `X` and `y`."
   ]
  },
  {
   "cell_type": "code",
   "execution_count": 12,
   "metadata": {},
   "outputs": [],
   "source": [
    "def mse(betas, X, y):\n",
    "    return cvx.pnorm(cvx.matmul(X, betas) - y, p=2)**2 / X.shape[0]"
   ]
  },
  {
   "cell_type": "markdown",
   "metadata": {},
   "source": [
    "Define the elastic net penalty as a function of the regression coefficients `betas` given the strengths `lambda_l1` (for the lasso penalty) and `lambda_l2` (for the ridge penalty)."
   ]
  },
  {
   "cell_type": "code",
   "execution_count": 13,
   "metadata": {},
   "outputs": [],
   "source": [
    "def elastic_net(betas, lambda_l1, lambda_l2):\n",
    "    return lambda_l1 * cvx.pnorm(betas, p=1) + \\\n",
    "           lambda_l2 * cvx.pnorm(betas, p=2)**2"
   ]
  },
  {
   "cell_type": "markdown",
   "metadata": {},
   "source": [
    "Define the regularised loss that will be minimised as the sum of `mse` and `elastic_net`."
   ]
  },
  {
   "cell_type": "code",
   "execution_count": 14,
   "metadata": {},
   "outputs": [],
   "source": [
    "def regularized_loss(betas, lambda_l1, lambda_l2, X, y):\n",
    "    return mse(betas, X, y) + \\\n",
    "           elastic_net(betas, lambda_l1, lambda_l2)"
   ]
  },
  {
   "cell_type": "markdown",
   "metadata": {},
   "source": [
    "Define a function to fit models given sequences of `lambdas` and `l1_ratios`."
   ]
  },
  {
   "cell_type": "code",
   "execution_count": 15,
   "metadata": {},
   "outputs": [],
   "source": [
    "def fit(X_train, y_train, X_test, y_test, lambdas, l1_ratios):\n",
    "    betas = cvx.Variable(shape=X_train.shape[1])\n",
    "    lambda_l1 = cvx.Parameter(nonneg=True)\n",
    "    lambda_l2 = cvx.Parameter(nonneg=True)\n",
    "    problem = cvx.Problem(cvx.Minimize(regularized_loss(betas, lambda_l1, lambda_l2, X_train, y_train)))\n",
    "    results = []\n",
    "    for lambda_, l1_ratio in product(lambdas, l1_ratios):\n",
    "        lambda_l1.value = lambda_ * l1_ratio\n",
    "        lambda_l2.value = lambda_ * (1 - l1_ratio)\n",
    "        problem.solve()\n",
    "        results.append({\n",
    "            'lambda': lambda_,\n",
    "            'l1_ratio': l1_ratio,\n",
    "            'coefs': betas.value,\n",
    "            'mse_train': mse(betas, X_train, y_train).value,\n",
    "            'mse_test': mse(betas, X_test, y_test).value,\n",
    "        })\n",
    "    return results"
   ]
  },
  {
   "cell_type": "code",
   "execution_count": 16,
   "metadata": {},
   "outputs": [],
   "source": [
    "cv_results = fit(X_train, y_train, X_test, y_test, np.logspace(-2, 2, 10), [0, 0.25, 0.5, 0.75, 1])"
   ]
  },
  {
   "cell_type": "markdown",
   "metadata": {},
   "source": [
    "Extract and plot the mean squared error in the test set as a function of `lambda` and `l1_ratio`."
   ]
  },
  {
   "cell_type": "code",
   "execution_count": 17,
   "metadata": {},
   "outputs": [],
   "source": [
    "cv_metrics = pd.DataFrame(cv_results).drop(columns=['coefs'])"
   ]
  },
  {
   "cell_type": "code",
   "execution_count": 18,
   "metadata": {},
   "outputs": [
    {
     "data": {
      "text/html": [
       "<div>\n",
       "<style scoped>\n",
       "    .dataframe tbody tr th:only-of-type {\n",
       "        vertical-align: middle;\n",
       "    }\n",
       "\n",
       "    .dataframe tbody tr th {\n",
       "        vertical-align: top;\n",
       "    }\n",
       "\n",
       "    .dataframe thead th {\n",
       "        text-align: right;\n",
       "    }\n",
       "</style>\n",
       "<table border=\"1\" class=\"dataframe\">\n",
       "  <thead>\n",
       "    <tr style=\"text-align: right;\">\n",
       "      <th></th>\n",
       "      <th>l1_ratio</th>\n",
       "      <th>lambda</th>\n",
       "      <th>mse_test</th>\n",
       "      <th>mse_train</th>\n",
       "    </tr>\n",
       "  </thead>\n",
       "  <tbody>\n",
       "    <tr>\n",
       "      <th>0</th>\n",
       "      <td>0.00</td>\n",
       "      <td>0.01</td>\n",
       "      <td>262.517981</td>\n",
       "      <td>230.772366</td>\n",
       "    </tr>\n",
       "    <tr>\n",
       "      <th>1</th>\n",
       "      <td>0.25</td>\n",
       "      <td>0.01</td>\n",
       "      <td>263.102562</td>\n",
       "      <td>229.958223</td>\n",
       "    </tr>\n",
       "    <tr>\n",
       "      <th>2</th>\n",
       "      <td>0.50</td>\n",
       "      <td>0.01</td>\n",
       "      <td>263.539374</td>\n",
       "      <td>229.085362</td>\n",
       "    </tr>\n",
       "    <tr>\n",
       "      <th>3</th>\n",
       "      <td>0.75</td>\n",
       "      <td>0.01</td>\n",
       "      <td>263.960132</td>\n",
       "      <td>227.623311</td>\n",
       "    </tr>\n",
       "    <tr>\n",
       "      <th>4</th>\n",
       "      <td>1.00</td>\n",
       "      <td>0.01</td>\n",
       "      <td>266.286687</td>\n",
       "      <td>224.393952</td>\n",
       "    </tr>\n",
       "  </tbody>\n",
       "</table>\n",
       "</div>"
      ],
      "text/plain": [
       "   l1_ratio  lambda    mse_test   mse_train\n",
       "0      0.00    0.01  262.517981  230.772366\n",
       "1      0.25    0.01  263.102562  229.958223\n",
       "2      0.50    0.01  263.539374  229.085362\n",
       "3      0.75    0.01  263.960132  227.623311\n",
       "4      1.00    0.01  266.286687  224.393952"
      ]
     },
     "execution_count": 18,
     "metadata": {},
     "output_type": "execute_result"
    }
   ],
   "source": [
    "cv_metrics.head()"
   ]
  },
  {
   "cell_type": "code",
   "execution_count": 19,
   "metadata": {},
   "outputs": [
    {
     "data": {
      "text/plain": [
       "<matplotlib.legend.Legend at 0x7f4211407f98>"
      ]
     },
     "execution_count": 19,
     "metadata": {},
     "output_type": "execute_result"
    },
    {
     "data": {
      "image/png": "[encoded data removed]",
      "text/plain": [
       "<matplotlib.figure.Figure at 0x7f42114356d8>"
      ]
     },
     "metadata": {},
     "output_type": "display_data"
    }
   ],
   "source": [
    "fig, ax = plt.subplots(figsize=(8, 6))\n",
    "for label, df in cv_metrics.groupby('l1_ratio'):\n",
    "    df.plot(kind='line', x='lambda', y='mse_test', ax=ax, label=label, logx=True)\n",
    "plt.legend()"
   ]
  }
 ],
 "metadata": {
  "kernelspec": {
   "display_name": "Python 3",
   "language": "python",
   "name": "python3"
  },
  "language_info": {
   "codemirror_mode": {
    "name": "ipython",
    "version": 3
   },
   "file_extension": ".py",
   "mimetype": "text/x-python",
   "name": "python",
   "nbconvert_exporter": "python",
   "pygments_lexer": "ipython3",
   "version": "3.6.4"
  }
 },
 "nbformat": 4,
 "nbformat_minor": 2
}
