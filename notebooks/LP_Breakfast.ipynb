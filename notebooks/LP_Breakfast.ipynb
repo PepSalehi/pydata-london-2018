{
 "cells": [
  {
   "cell_type": "code",
   "execution_count": 1,
   "metadata": {},
   "outputs": [],
   "source": [
    "import cvxpy as cvx\n",
    "import numpy as np\n",
    "import pandas as pd\n",
    "\n",
    "%matplotlib inline"
   ]
  },
  {
   "cell_type": "markdown",
   "metadata": {},
   "source": [
    "# Exploratory data analysis"
   ]
  },
  {
   "cell_type": "code",
   "execution_count": 2,
   "metadata": {},
   "outputs": [],
   "source": [
    "items = pd.read_csv('breakfast_items.csv', index_col='item')"
   ]
  },
  {
   "cell_type": "code",
   "execution_count": 3,
   "metadata": {},
   "outputs": [
    {
     "data": {
      "text/html": [
       "<div>\n",
       "<style scoped>\n",
       "    .dataframe tbody tr th:only-of-type {\n",
       "        vertical-align: middle;\n",
       "    }\n",
       "\n",
       "    .dataframe tbody tr th {\n",
       "        vertical-align: top;\n",
       "    }\n",
       "\n",
       "    .dataframe thead th {\n",
       "        text-align: right;\n",
       "    }\n",
       "</style>\n",
       "<table border=\"1\" class=\"dataframe\">\n",
       "  <thead>\n",
       "    <tr style=\"text-align: right;\">\n",
       "      <th></th>\n",
       "      <th>energy</th>\n",
       "      <th>fat</th>\n",
       "      <th>saturated_fat</th>\n",
       "      <th>carbs</th>\n",
       "      <th>sugar</th>\n",
       "      <th>fibre</th>\n",
       "      <th>protein</th>\n",
       "      <th>salt</th>\n",
       "      <th>cost</th>\n",
       "    </tr>\n",
       "    <tr>\n",
       "      <th>item</th>\n",
       "      <th></th>\n",
       "      <th></th>\n",
       "      <th></th>\n",
       "      <th></th>\n",
       "      <th></th>\n",
       "      <th></th>\n",
       "      <th></th>\n",
       "      <th></th>\n",
       "      <th></th>\n",
       "    </tr>\n",
       "  </thead>\n",
       "  <tbody>\n",
       "    <tr>\n",
       "      <th>Almonds</th>\n",
       "      <td>5.8700</td>\n",
       "      <td>0.4900</td>\n",
       "      <td>0.0370</td>\n",
       "      <td>0.0950</td>\n",
       "      <td>0.0390</td>\n",
       "      <td>0.1200</td>\n",
       "      <td>0.2100</td>\n",
       "      <td>0.0000</td>\n",
       "      <td>0.010000</td>\n",
       "    </tr>\n",
       "    <tr>\n",
       "      <th>Bananas</th>\n",
       "      <td>1.0300</td>\n",
       "      <td>0.0030</td>\n",
       "      <td>0.0010</td>\n",
       "      <td>0.2320</td>\n",
       "      <td>0.2090</td>\n",
       "      <td>0.0110</td>\n",
       "      <td>0.0120</td>\n",
       "      <td>0.0001</td>\n",
       "      <td>0.000760</td>\n",
       "    </tr>\n",
       "    <tr>\n",
       "      <th>Blueberries, frozen</th>\n",
       "      <td>0.4480</td>\n",
       "      <td>0.0020</td>\n",
       "      <td>0.0000</td>\n",
       "      <td>0.0910</td>\n",
       "      <td>0.0910</td>\n",
       "      <td>0.0150</td>\n",
       "      <td>0.0090</td>\n",
       "      <td>0.0000</td>\n",
       "      <td>0.005000</td>\n",
       "    </tr>\n",
       "    <tr>\n",
       "      <th>Cashews</th>\n",
       "      <td>5.8169</td>\n",
       "      <td>0.4385</td>\n",
       "      <td>0.0778</td>\n",
       "      <td>0.2689</td>\n",
       "      <td>0.0591</td>\n",
       "      <td>0.0330</td>\n",
       "      <td>0.1822</td>\n",
       "      <td>0.0003</td>\n",
       "      <td>0.011000</td>\n",
       "    </tr>\n",
       "    <tr>\n",
       "      <th>Corn flakes</th>\n",
       "      <td>3.8639</td>\n",
       "      <td>0.0114</td>\n",
       "      <td>0.0030</td>\n",
       "      <td>0.8515</td>\n",
       "      <td>0.0661</td>\n",
       "      <td>0.0253</td>\n",
       "      <td>0.0761</td>\n",
       "      <td>0.0068</td>\n",
       "      <td>0.001933</td>\n",
       "    </tr>\n",
       "    <tr>\n",
       "      <th>Granola</th>\n",
       "      <td>4.2980</td>\n",
       "      <td>0.1340</td>\n",
       "      <td>0.0490</td>\n",
       "      <td>0.6410</td>\n",
       "      <td>0.1890</td>\n",
       "      <td>0.0680</td>\n",
       "      <td>0.0980</td>\n",
       "      <td>0.0003</td>\n",
       "      <td>0.002000</td>\n",
       "    </tr>\n",
       "    <tr>\n",
       "      <th>Greek yogurt, 0% fat</th>\n",
       "      <td>0.5700</td>\n",
       "      <td>0.0000</td>\n",
       "      <td>0.0000</td>\n",
       "      <td>0.0400</td>\n",
       "      <td>0.0400</td>\n",
       "      <td>0.0000</td>\n",
       "      <td>0.1030</td>\n",
       "      <td>0.0010</td>\n",
       "      <td>0.005500</td>\n",
       "    </tr>\n",
       "    <tr>\n",
       "      <th>Greek yogurt, full fat</th>\n",
       "      <td>0.9600</td>\n",
       "      <td>0.0500</td>\n",
       "      <td>0.0360</td>\n",
       "      <td>0.0380</td>\n",
       "      <td>0.0380</td>\n",
       "      <td>0.0000</td>\n",
       "      <td>0.0900</td>\n",
       "      <td>0.0010</td>\n",
       "      <td>0.005500</td>\n",
       "    </tr>\n",
       "    <tr>\n",
       "      <th>Honey</th>\n",
       "      <td>3.2611</td>\n",
       "      <td>0.0001</td>\n",
       "      <td>0.0001</td>\n",
       "      <td>0.8100</td>\n",
       "      <td>0.8100</td>\n",
       "      <td>0.0001</td>\n",
       "      <td>0.0050</td>\n",
       "      <td>0.0010</td>\n",
       "      <td>0.005294</td>\n",
       "    </tr>\n",
       "    <tr>\n",
       "      <th>Milk, semi-skimmed</th>\n",
       "      <td>0.4980</td>\n",
       "      <td>0.0180</td>\n",
       "      <td>0.0110</td>\n",
       "      <td>0.0480</td>\n",
       "      <td>0.0480</td>\n",
       "      <td>0.0000</td>\n",
       "      <td>0.0360</td>\n",
       "      <td>0.0011</td>\n",
       "      <td>0.000708</td>\n",
       "    </tr>\n",
       "    <tr>\n",
       "      <th>Milk, whole</th>\n",
       "      <td>0.6400</td>\n",
       "      <td>0.0360</td>\n",
       "      <td>0.0230</td>\n",
       "      <td>0.0470</td>\n",
       "      <td>0.0470</td>\n",
       "      <td>0.0000</td>\n",
       "      <td>0.0320</td>\n",
       "      <td>0.0014</td>\n",
       "      <td>0.000708</td>\n",
       "    </tr>\n",
       "    <tr>\n",
       "      <th>Raisins</th>\n",
       "      <td>2.9320</td>\n",
       "      <td>0.0040</td>\n",
       "      <td>0.0019</td>\n",
       "      <td>0.6930</td>\n",
       "      <td>0.6930</td>\n",
       "      <td>0.0200</td>\n",
       "      <td>0.0210</td>\n",
       "      <td>0.0015</td>\n",
       "      <td>0.003200</td>\n",
       "    </tr>\n",
       "    <tr>\n",
       "      <th>Wheat biscuits</th>\n",
       "      <td>3.5800</td>\n",
       "      <td>0.0200</td>\n",
       "      <td>0.0060</td>\n",
       "      <td>0.6800</td>\n",
       "      <td>0.0440</td>\n",
       "      <td>0.1000</td>\n",
       "      <td>0.1200</td>\n",
       "      <td>0.0028</td>\n",
       "      <td>0.002851</td>\n",
       "    </tr>\n",
       "  </tbody>\n",
       "</table>\n",
       "</div>"
      ],
      "text/plain": [
       "                        energy     fat  saturated_fat   carbs   sugar   fibre  \\\n",
       "item                                                                            \n",
       "Almonds                 5.8700  0.4900         0.0370  0.0950  0.0390  0.1200   \n",
       "Bananas                 1.0300  0.0030         0.0010  0.2320  0.2090  0.0110   \n",
       "Blueberries, frozen     0.4480  0.0020         0.0000  0.0910  0.0910  0.0150   \n",
       "Cashews                 5.8169  0.4385         0.0778  0.2689  0.0591  0.0330   \n",
       "Corn flakes             3.8639  0.0114         0.0030  0.8515  0.0661  0.0253   \n",
       "Granola                 4.2980  0.1340         0.0490  0.6410  0.1890  0.0680   \n",
       "Greek yogurt, 0% fat    0.5700  0.0000         0.0000  0.0400  0.0400  0.0000   \n",
       "Greek yogurt, full fat  0.9600  0.0500         0.0360  0.0380  0.0380  0.0000   \n",
       "Honey                   3.2611  0.0001         0.0001  0.8100  0.8100  0.0001   \n",
       "Milk, semi-skimmed      0.4980  0.0180         0.0110  0.0480  0.0480  0.0000   \n",
       "Milk, whole             0.6400  0.0360         0.0230  0.0470  0.0470  0.0000   \n",
       "Raisins                 2.9320  0.0040         0.0019  0.6930  0.6930  0.0200   \n",
       "Wheat biscuits          3.5800  0.0200         0.0060  0.6800  0.0440  0.1000   \n",
       "\n",
       "                        protein    salt      cost  \n",
       "item                                               \n",
       "Almonds                  0.2100  0.0000  0.010000  \n",
       "Bananas                  0.0120  0.0001  0.000760  \n",
       "Blueberries, frozen      0.0090  0.0000  0.005000  \n",
       "Cashews                  0.1822  0.0003  0.011000  \n",
       "Corn flakes              0.0761  0.0068  0.001933  \n",
       "Granola                  0.0980  0.0003  0.002000  \n",
       "Greek yogurt, 0% fat     0.1030  0.0010  0.005500  \n",
       "Greek yogurt, full fat   0.0900  0.0010  0.005500  \n",
       "Honey                    0.0050  0.0010  0.005294  \n",
       "Milk, semi-skimmed       0.0360  0.0011  0.000708  \n",
       "Milk, whole              0.0320  0.0014  0.000708  \n",
       "Raisins                  0.0210  0.0015  0.003200  \n",
       "Wheat biscuits           0.1200  0.0028  0.002851  "
      ]
     },
     "execution_count": 3,
     "metadata": {},
     "output_type": "execute_result"
    }
   ],
   "source": [
    "items"
   ]
  },
  {
   "cell_type": "markdown",
   "metadata": {},
   "source": [
    "## Bar plot of energy per gram"
   ]
  },
  {
   "cell_type": "code",
   "execution_count": 4,
   "metadata": {},
   "outputs": [
    {
     "data": {
      "text/plain": [
       "<matplotlib.axes._subplots.AxesSubplot at 0x7ff4f1afa748>"
      ]
     },
     "execution_count": 4,
     "metadata": {},
     "output_type": "execute_result"
    },
    {
     "data": {
      "image/png": "[encoded data removed]",
      "text/plain": [
       "<matplotlib.figure.Figure at 0x7ff4f1afaef0>"
      ]
     },
     "metadata": {},
     "output_type": "display_data"
    }
   ],
   "source": [
    "items['energy'].sort_values(ascending=False).plot.bar(color='darkblue')"
   ]
  },
  {
   "cell_type": "markdown",
   "metadata": {},
   "source": [
    "## Bar plot of cost per gram"
   ]
  },
  {
   "cell_type": "code",
   "execution_count": 5,
   "metadata": {},
   "outputs": [
    {
     "data": {
      "text/plain": [
       "<matplotlib.axes._subplots.AxesSubplot at 0x7ff4f1afac50>"
      ]
     },
     "execution_count": 5,
     "metadata": {},
     "output_type": "execute_result"
    },
    {
     "data": {
      "image/png": "[encoded data removed]",
      "text/plain": [
       "<matplotlib.figure.Figure at 0x7ff4eec28a90>"
      ]
     },
     "metadata": {},
     "output_type": "display_data"
    }
   ],
   "source": [
    "items['cost'].sort_values(ascending=False).plot.bar(color='darkblue')"
   ]
  },
  {
   "cell_type": "markdown",
   "metadata": {},
   "source": [
    "## Bar plot of energy per pound sterling"
   ]
  },
  {
   "cell_type": "code",
   "execution_count": 6,
   "metadata": {},
   "outputs": [
    {
     "data": {
      "text/plain": [
       "<matplotlib.axes._subplots.AxesSubplot at 0x7ff4ee7fffd0>"
      ]
     },
     "execution_count": 6,
     "metadata": {},
     "output_type": "execute_result"
    },
    {
     "data": {
      "image/png": "[encoded data removed]",
      "text/plain": [
       "<matplotlib.figure.Figure at 0x7ff4eec28ac8>"
      ]
     },
     "metadata": {},
     "output_type": "display_data"
    }
   ],
   "source": [
    "(items['energy'] / items['cost']).sort_values(ascending=False).plot.bar(color='darkblue')"
   ]
  },
  {
   "cell_type": "markdown",
   "metadata": {},
   "source": [
    "# Modelling"
   ]
  },
  {
   "cell_type": "markdown",
   "metadata": {},
   "source": [
    "Define the decisions variables representing the amounts (in gram) for each product."
   ]
  },
  {
   "cell_type": "code",
   "execution_count": 7,
   "metadata": {},
   "outputs": [],
   "source": [
    "x = cvx.Variable(items.shape[0], nonneg=True)"
   ]
  },
  {
   "cell_type": "markdown",
   "metadata": {},
   "source": [
    "Define some constraints on energy and nutrients."
   ]
  },
  {
   "cell_type": "code",
   "execution_count": 8,
   "metadata": {},
   "outputs": [],
   "source": [
    "total_energy = 2500 / 4\n",
    "max_fat = total_energy * 0.35 / 9\n",
    "max_saturated_fat = total_energy * 0.11 / 9\n",
    "max_carbs = total_energy * 0.5 / 4\n",
    "max_sugar = total_energy * 0.05 / 4\n",
    "min_fibre = 30 / 4\n",
    "min_protein = 70 * 0.75 / 4\n",
    "max_salt = 6 / 4"
   ]
  },
  {
   "cell_type": "code",
   "execution_count": 9,
   "metadata": {},
   "outputs": [],
   "source": [
    "constraints = [\n",
    "    cvx.sum(x * items['energy']) == total_energy,\n",
    "    cvx.sum(x * items['fat']) <= max_fat,\n",
    "    cvx.sum(x * items['saturated_fat']) <= max_saturated_fat,\n",
    "    cvx.sum(x * items['carbs']) <= max_carbs,\n",
    "    cvx.sum(x * items['sugar']) <= max_sugar,\n",
    "    cvx.sum(x * items['fibre']) >= min_fibre,\n",
    "    cvx.sum(x * items['protein']) >= min_protein,\n",
    "    cvx.sum(x * items['salt']) <= max_salt,\n",
    "]"
   ]
  },
  {
   "cell_type": "markdown",
   "metadata": {},
   "source": [
    "Define and solve the problem of minimising total cost subject to `constraints`."
   ]
  },
  {
   "cell_type": "code",
   "execution_count": 10,
   "metadata": {},
   "outputs": [],
   "source": [
    "problem = cvx.Problem(cvx.Minimize(cvx.sum(x * items['cost'])), constraints)"
   ]
  },
  {
   "cell_type": "code",
   "execution_count": 11,
   "metadata": {},
   "outputs": [
    {
     "data": {
      "text/plain": [
       "0.7130557905033648"
      ]
     },
     "execution_count": 11,
     "metadata": {},
     "output_type": "execute_result"
    }
   ],
   "source": [
    "problem.solve()"
   ]
  },
  {
   "cell_type": "markdown",
   "metadata": {},
   "source": [
    "Check the solution."
   ]
  },
  {
   "cell_type": "code",
   "execution_count": 12,
   "metadata": {},
   "outputs": [
    {
     "data": {
      "text/html": [
       "<div>\n",
       "<style scoped>\n",
       "    .dataframe tbody tr th:only-of-type {\n",
       "        vertical-align: middle;\n",
       "    }\n",
       "\n",
       "    .dataframe tbody tr th {\n",
       "        vertical-align: top;\n",
       "    }\n",
       "\n",
       "    .dataframe thead th {\n",
       "        text-align: right;\n",
       "    }\n",
       "</style>\n",
       "<table border=\"1\" class=\"dataframe\">\n",
       "  <thead>\n",
       "    <tr style=\"text-align: right;\">\n",
       "      <th></th>\n",
       "      <th>quantity</th>\n",
       "    </tr>\n",
       "    <tr>\n",
       "      <th>item</th>\n",
       "      <th></th>\n",
       "    </tr>\n",
       "  </thead>\n",
       "  <tbody>\n",
       "    <tr>\n",
       "      <th>Wheat biscuits</th>\n",
       "      <td>108.20</td>\n",
       "    </tr>\n",
       "    <tr>\n",
       "      <th>Almonds</th>\n",
       "      <td>39.84</td>\n",
       "    </tr>\n",
       "    <tr>\n",
       "      <th>Honey</th>\n",
       "      <td>0.56</td>\n",
       "    </tr>\n",
       "    <tr>\n",
       "      <th>Raisins</th>\n",
       "      <td>0.54</td>\n",
       "    </tr>\n",
       "    <tr>\n",
       "      <th>Bananas</th>\n",
       "      <td>0.30</td>\n",
       "    </tr>\n",
       "    <tr>\n",
       "      <th>Blueberries, frozen</th>\n",
       "      <td>0.14</td>\n",
       "    </tr>\n",
       "    <tr>\n",
       "      <th>Greek yogurt, 0% fat</th>\n",
       "      <td>0.07</td>\n",
       "    </tr>\n",
       "    <tr>\n",
       "      <th>Milk, semi-skimmed</th>\n",
       "      <td>0.07</td>\n",
       "    </tr>\n",
       "    <tr>\n",
       "      <th>Milk, whole</th>\n",
       "      <td>0.06</td>\n",
       "    </tr>\n",
       "    <tr>\n",
       "      <th>Greek yogurt, full fat</th>\n",
       "      <td>0.04</td>\n",
       "    </tr>\n",
       "    <tr>\n",
       "      <th>Granola</th>\n",
       "      <td>0.03</td>\n",
       "    </tr>\n",
       "    <tr>\n",
       "      <th>Cashews</th>\n",
       "      <td>0.00</td>\n",
       "    </tr>\n",
       "    <tr>\n",
       "      <th>Corn flakes</th>\n",
       "      <td>0.00</td>\n",
       "    </tr>\n",
       "  </tbody>\n",
       "</table>\n",
       "</div>"
      ],
      "text/plain": [
       "                        quantity\n",
       "item                            \n",
       "Wheat biscuits            108.20\n",
       "Almonds                    39.84\n",
       "Honey                       0.56\n",
       "Raisins                     0.54\n",
       "Bananas                     0.30\n",
       "Blueberries, frozen         0.14\n",
       "Greek yogurt, 0% fat        0.07\n",
       "Milk, semi-skimmed          0.07\n",
       "Milk, whole                 0.06\n",
       "Greek yogurt, full fat      0.04\n",
       "Granola                     0.03\n",
       "Cashews                     0.00\n",
       "Corn flakes                 0.00"
      ]
     },
     "execution_count": 12,
     "metadata": {},
     "output_type": "execute_result"
    }
   ],
   "source": [
    "pd.DataFrame({'quantity': np.round(x.value, 2)}, index=items.index).sort_values('quantity', ascending=False)"
   ]
  },
  {
   "cell_type": "code",
   "execution_count": 13,
   "metadata": {},
   "outputs": [
    {
     "data": {
      "text/html": [
       "<div>\n",
       "<style scoped>\n",
       "    .dataframe tbody tr th:only-of-type {\n",
       "        vertical-align: middle;\n",
       "    }\n",
       "\n",
       "    .dataframe tbody tr th {\n",
       "        vertical-align: top;\n",
       "    }\n",
       "\n",
       "    .dataframe thead th {\n",
       "        text-align: right;\n",
       "    }\n",
       "</style>\n",
       "<table border=\"1\" class=\"dataframe\">\n",
       "  <thead>\n",
       "    <tr style=\"text-align: right;\">\n",
       "      <th></th>\n",
       "      <th>value</th>\n",
       "    </tr>\n",
       "  </thead>\n",
       "  <tbody>\n",
       "    <tr>\n",
       "      <th>energy</th>\n",
       "      <td>625.308915</td>\n",
       "    </tr>\n",
       "    <tr>\n",
       "      <th>fat</th>\n",
       "      <td>21.698219</td>\n",
       "    </tr>\n",
       "    <tr>\n",
       "      <th>saturated_fat</th>\n",
       "      <td>2.129709</td>\n",
       "    </tr>\n",
       "    <tr>\n",
       "      <th>carbs</th>\n",
       "      <td>78.308307</td>\n",
       "    </tr>\n",
       "    <tr>\n",
       "      <th>sugar</th>\n",
       "      <td>7.239679</td>\n",
       "    </tr>\n",
       "    <tr>\n",
       "      <th>fibre</th>\n",
       "      <td>15.619396</td>\n",
       "    </tr>\n",
       "    <tr>\n",
       "      <th>protein</th>\n",
       "      <td>21.387913</td>\n",
       "    </tr>\n",
       "    <tr>\n",
       "      <th>salt</th>\n",
       "      <td>0.304647</td>\n",
       "    </tr>\n",
       "    <tr>\n",
       "      <th>cost</th>\n",
       "      <td>0.713290</td>\n",
       "    </tr>\n",
       "  </tbody>\n",
       "</table>\n",
       "</div>"
      ],
      "text/plain": [
       "                    value\n",
       "energy         625.308915\n",
       "fat             21.698219\n",
       "saturated_fat    2.129709\n",
       "carbs           78.308307\n",
       "sugar            7.239679\n",
       "fibre           15.619396\n",
       "protein         21.387913\n",
       "salt             0.304647\n",
       "cost             0.713290"
      ]
     },
     "execution_count": 13,
     "metadata": {},
     "output_type": "execute_result"
    }
   ],
   "source": [
    "pd.DataFrame({'value': x.value @ items}, index=items.columns)"
   ]
  }
 ],
 "metadata": {
  "kernelspec": {
   "display_name": "Python 3",
   "language": "python",
   "name": "python3"
  },
  "language_info": {
   "codemirror_mode": {
    "name": "ipython",
    "version": 3
   },
   "file_extension": ".py",
   "mimetype": "text/x-python",
   "name": "python",
   "nbconvert_exporter": "python",
   "pygments_lexer": "ipython3",
   "version": "3.6.4"
  }
 },
 "nbformat": 4,
 "nbformat_minor": 2
}
