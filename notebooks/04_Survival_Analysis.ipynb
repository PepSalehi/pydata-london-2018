{
 "cells": [
  {
   "cell_type": "code",
   "execution_count": 1,
   "metadata": {},
   "outputs": [],
   "source": [
    "import autograd.numpy as np\n",
    "import pandas as pd\n",
    "\n",
    "from autograd import grad, hessian\n",
    "from patsy import dmatrices\n",
    "from scipy.optimize import minimize\n",
    "from scipy.stats import norm\n",
    "\n",
    "%matplotlib inline"
   ]
  },
  {
   "cell_type": "markdown",
   "metadata": {},
   "source": [
    "# Data pre-processing"
   ]
  },
  {
   "cell_type": "markdown",
   "metadata": {},
   "source": [
    "Read in the *NCCTG Lung Cancer* data from the R package [`survival`](https://cran.r-project.org/package=survival)."
   ]
  },
  {
   "cell_type": "code",
   "execution_count": 2,
   "metadata": {},
   "outputs": [],
   "source": [
    "ovarian = pd.read_csv('https://vincentarelbundock.github.io/Rdatasets/csv/survival/ovarian.csv', index_col=0)"
   ]
  },
  {
   "cell_type": "markdown",
   "metadata": {},
   "source": [
    "Replace dots with underscores in column names."
   ]
  },
  {
   "cell_type": "code",
   "execution_count": 3,
   "metadata": {},
   "outputs": [],
   "source": [
    "ovarian.columns = ovarian.columns.str.replace('\\\\.', '_')"
   ]
  },
  {
   "cell_type": "code",
   "execution_count": 4,
   "metadata": {},
   "outputs": [
    {
     "data": {
      "text/html": [
       "<div>\n",
       "<style scoped>\n",
       "    .dataframe tbody tr th:only-of-type {\n",
       "        vertical-align: middle;\n",
       "    }\n",
       "\n",
       "    .dataframe tbody tr th {\n",
       "        vertical-align: top;\n",
       "    }\n",
       "\n",
       "    .dataframe thead th {\n",
       "        text-align: right;\n",
       "    }\n",
       "</style>\n",
       "<table border=\"1\" class=\"dataframe\">\n",
       "  <thead>\n",
       "    <tr style=\"text-align: right;\">\n",
       "      <th></th>\n",
       "      <th>futime</th>\n",
       "      <th>fustat</th>\n",
       "      <th>age</th>\n",
       "      <th>resid_ds</th>\n",
       "      <th>rx</th>\n",
       "      <th>ecog_ps</th>\n",
       "    </tr>\n",
       "  </thead>\n",
       "  <tbody>\n",
       "    <tr>\n",
       "      <th>1</th>\n",
       "      <td>59</td>\n",
       "      <td>1</td>\n",
       "      <td>72.3315</td>\n",
       "      <td>2</td>\n",
       "      <td>1</td>\n",
       "      <td>1</td>\n",
       "    </tr>\n",
       "    <tr>\n",
       "      <th>2</th>\n",
       "      <td>115</td>\n",
       "      <td>1</td>\n",
       "      <td>74.4932</td>\n",
       "      <td>2</td>\n",
       "      <td>1</td>\n",
       "      <td>1</td>\n",
       "    </tr>\n",
       "    <tr>\n",
       "      <th>3</th>\n",
       "      <td>156</td>\n",
       "      <td>1</td>\n",
       "      <td>66.4658</td>\n",
       "      <td>2</td>\n",
       "      <td>1</td>\n",
       "      <td>2</td>\n",
       "    </tr>\n",
       "    <tr>\n",
       "      <th>4</th>\n",
       "      <td>421</td>\n",
       "      <td>0</td>\n",
       "      <td>53.3644</td>\n",
       "      <td>2</td>\n",
       "      <td>2</td>\n",
       "      <td>1</td>\n",
       "    </tr>\n",
       "    <tr>\n",
       "      <th>5</th>\n",
       "      <td>431</td>\n",
       "      <td>1</td>\n",
       "      <td>50.3397</td>\n",
       "      <td>2</td>\n",
       "      <td>1</td>\n",
       "      <td>1</td>\n",
       "    </tr>\n",
       "  </tbody>\n",
       "</table>\n",
       "</div>"
      ],
      "text/plain": [
       "   futime  fustat      age  resid_ds  rx  ecog_ps\n",
       "1      59       1  72.3315         2   1        1\n",
       "2     115       1  74.4932         2   1        1\n",
       "3     156       1  66.4658         2   1        2\n",
       "4     421       0  53.3644         2   2        1\n",
       "5     431       1  50.3397         2   1        1"
      ]
     },
     "execution_count": 4,
     "metadata": {},
     "output_type": "execute_result"
    }
   ],
   "source": [
    "ovarian.head()"
   ]
  },
  {
   "cell_type": "markdown",
   "metadata": {},
   "source": [
    "# Exploratory data analysis"
   ]
  },
  {
   "cell_type": "markdown",
   "metadata": {},
   "source": [
    "## Bar plot of censored vs dead"
   ]
  },
  {
   "cell_type": "code",
   "execution_count": 5,
   "metadata": {},
   "outputs": [
    {
     "data": {
      "text/plain": [
       "<matplotlib.axes._subplots.AxesSubplot at 0x7f0c37fb09b0>"
      ]
     },
     "execution_count": 5,
     "metadata": {},
     "output_type": "execute_result"
    },
    {
     "data": {
      "image/png": "[encoded data removed]",
      "text/plain": [
       "<matplotlib.figure.Figure at 0x7f0c37fb0320>"
      ]
     },
     "metadata": {},
     "output_type": "display_data"
    }
   ],
   "source": [
    "ovarian['fustat'].value_counts().sort_index().plot.bar(color='darkblue')"
   ]
  },
  {
   "cell_type": "markdown",
   "metadata": {},
   "source": [
    "## Density plot of age"
   ]
  },
  {
   "cell_type": "code",
   "execution_count": 6,
   "metadata": {},
   "outputs": [
    {
     "data": {
      "text/plain": [
       "<matplotlib.axes._subplots.AxesSubplot at 0x7f0c37fb02b0>"
      ]
     },
     "execution_count": 6,
     "metadata": {},
     "output_type": "execute_result"
    },
    {
     "data": {
      "image/png": "[encoded data removed]",
      "text/plain": [
       "<matplotlib.figure.Figure at 0x7f0c2f9a40b8>"
      ]
     },
     "metadata": {},
     "output_type": "display_data"
    }
   ],
   "source": [
    "ovarian['age'].plot.density(color='darkblue')"
   ]
  },
  {
   "cell_type": "markdown",
   "metadata": {},
   "source": [
    "## Bar plot of [ECOG Performance Status](https://training.seer.cancer.gov/followup/procedures/dataset/ecog.html)"
   ]
  },
  {
   "cell_type": "code",
   "execution_count": 7,
   "metadata": {},
   "outputs": [
    {
     "data": {
      "text/plain": [
       "<matplotlib.axes._subplots.AxesSubplot at 0x7f0c2f90df98>"
      ]
     },
     "execution_count": 7,
     "metadata": {},
     "output_type": "execute_result"
    },
    {
     "data": {
      "image/png": "[encoded data removed]",
      "text/plain": [
       "<matplotlib.figure.Figure at 0x7f0c37fb04e0>"
      ]
     },
     "metadata": {},
     "output_type": "display_data"
    }
   ],
   "source": [
    "ovarian['ecog_ps'].value_counts().sort_index().plot.bar(color='darkblue')"
   ]
  },
  {
   "cell_type": "markdown",
   "metadata": {},
   "source": [
    "# Modelling"
   ]
  },
  {
   "cell_type": "markdown",
   "metadata": {},
   "source": [
    "Define the negative log-likehood function of the Weibull model."
   ]
  },
  {
   "cell_type": "code",
   "execution_count": 8,
   "metadata": {},
   "outputs": [],
   "source": [
    "def nll(parameters, scale, X, Y):\n",
    "    if scale is None:\n",
    "        beta, sigma = parameters[:-1], np.exp(parameters[-1])\n",
    "    else:\n",
    "        beta, sigma = parameters, scale  \n",
    "    z = (np.log(Y[:, 0]) - np.dot(X, beta)) / sigma\n",
    "    return np.sum(np.exp(z) - Y[:, 1] * (z - np.log(sigma)))"
   ]
  },
  {
   "cell_type": "markdown",
   "metadata": {},
   "source": [
    "Define gradient and Hessian of the negative log-likehood w.r.t. `parameters` using [Autograd](https://github.com/HIPS/autograd)."
   ]
  },
  {
   "cell_type": "code",
   "execution_count": 9,
   "metadata": {},
   "outputs": [],
   "source": [
    "nll_grad = grad(nll, 0)\n",
    "nll_hess = hessian(nll, 0)"
   ]
  },
  {
   "cell_type": "markdown",
   "metadata": {},
   "source": [
    "Define a function to perform model fitting and hypothesis testing on the parameters."
   ]
  },
  {
   "cell_type": "code",
   "execution_count": 10,
   "metadata": {},
   "outputs": [],
   "source": [
    "def fit(X, Y, scale=None, x0=None):\n",
    "    if x0 is None:\n",
    "        p = X.shape[1]\n",
    "        if scale is None:\n",
    "            p += 1\n",
    "        x0 = np.zeros(p, dtype=np.double)\n",
    "    solution = minimize(nll, x0, args=(scale, X, Y), method='Newton-CG', jac=nll_grad, hess=nll_hess)\n",
    "    if not solution.success:\n",
    "        raise RuntimeError(solution.message)\n",
    "    results = {}\n",
    "    results['coef'] = solution.x\n",
    "    results['vcov'] = np.linalg.inv(nll_hess(solution.x, scale, X, Y))\n",
    "    results['se'] = np.sqrt(np.diag(results['vcov']))\n",
    "    results['z'] = results['coef'] / results['se']\n",
    "    results['p'] = 2 * norm.cdf(-np.abs(results['z']))\n",
    "    return results"
   ]
  },
  {
   "cell_type": "markdown",
   "metadata": {},
   "source": [
    "Define a function to specify models using [`patsy`](https://patsy.readthedocs.io/) formulas."
   ]
  },
  {
   "cell_type": "code",
   "execution_count": 11,
   "metadata": {},
   "outputs": [],
   "source": [
    "def fit_formula(formula, data={}, scale=None):\n",
    "    Y, X = dmatrices(formula, data=data)\n",
    "    results = fit(np.asarray(X), np.asarray(Y), scale)\n",
    "    index = X.design_info.column_names\n",
    "    if scale is None:\n",
    "        index.append('Log(scale)')\n",
    "    return pd.DataFrame(results, index=index, columns=['coef', 'se', 'z', 'p'])"
   ]
  },
  {
   "cell_type": "markdown",
   "metadata": {},
   "source": [
    "Estimate a Weibull model."
   ]
  },
  {
   "cell_type": "code",
   "execution_count": 12,
   "metadata": {},
   "outputs": [
    {
     "data": {
      "text/html": [
       "<div>\n",
       "<style scoped>\n",
       "    .dataframe tbody tr th:only-of-type {\n",
       "        vertical-align: middle;\n",
       "    }\n",
       "\n",
       "    .dataframe tbody tr th {\n",
       "        vertical-align: top;\n",
       "    }\n",
       "\n",
       "    .dataframe thead th {\n",
       "        text-align: right;\n",
       "    }\n",
       "</style>\n",
       "<table border=\"1\" class=\"dataframe\">\n",
       "  <thead>\n",
       "    <tr style=\"text-align: right;\">\n",
       "      <th></th>\n",
       "      <th>coef</th>\n",
       "      <th>se</th>\n",
       "      <th>z</th>\n",
       "      <th>p</th>\n",
       "    </tr>\n",
       "  </thead>\n",
       "  <tbody>\n",
       "    <tr>\n",
       "      <th>Intercept</th>\n",
       "      <td>6.896693</td>\n",
       "      <td>1.177547</td>\n",
       "      <td>5.856829</td>\n",
       "      <td>4.717874e-09</td>\n",
       "    </tr>\n",
       "    <tr>\n",
       "      <th>ecog_ps</th>\n",
       "      <td>-0.385043</td>\n",
       "      <td>0.527002</td>\n",
       "      <td>-0.730629</td>\n",
       "      <td>4.650061e-01</td>\n",
       "    </tr>\n",
       "    <tr>\n",
       "      <th>rx</th>\n",
       "      <td>0.528645</td>\n",
       "      <td>0.529202</td>\n",
       "      <td>0.998949</td>\n",
       "      <td>3.178196e-01</td>\n",
       "    </tr>\n",
       "    <tr>\n",
       "      <th>Log(scale)</th>\n",
       "      <td>-0.123442</td>\n",
       "      <td>0.252213</td>\n",
       "      <td>-0.489435</td>\n",
       "      <td>6.245341e-01</td>\n",
       "    </tr>\n",
       "  </tbody>\n",
       "</table>\n",
       "</div>"
      ],
      "text/plain": [
       "                coef        se         z             p\n",
       "Intercept   6.896693  1.177547  5.856829  4.717874e-09\n",
       "ecog_ps    -0.385043  0.527002 -0.730629  4.650061e-01\n",
       "rx          0.528645  0.529202  0.998949  3.178196e-01\n",
       "Log(scale) -0.123442  0.252213 -0.489435  6.245341e-01"
      ]
     },
     "execution_count": 12,
     "metadata": {},
     "output_type": "execute_result"
    }
   ],
   "source": [
    "fit_formula('futime + fustat ~ ecog_ps + rx', ovarian)"
   ]
  },
  {
   "cell_type": "markdown",
   "metadata": {},
   "source": [
    "Compare with the output of `survreg` in R:\n",
    "```\n",
    "Call:\n",
    "survreg(formula = Surv(futime, fustat) ~ ecog.ps + rx, data = ovarian)\n",
    "             Value Std. Error      z        p\n",
    "(Intercept)  6.897      1.178  5.857 4.72e-09\n",
    "ecog.ps     -0.385      0.527 -0.731 4.65e-01\n",
    "rx           0.529      0.529  0.999 3.18e-01\n",
    "Log(scale)  -0.123      0.252 -0.489 6.25e-01\n",
    "\n",
    "Scale= 0.884\n",
    "\n",
    "Weibull distribution\n",
    "Loglik(model)= -97.1   Loglik(intercept only)= -98\n",
    "\tChisq= 1.74 on 2 degrees of freedom, p= 0.42\n",
    "Number of Newton-Raphson Iterations: 5\n",
    "n= 26\n",
    "```"
   ]
  },
  {
   "cell_type": "markdown",
   "metadata": {},
   "source": [
    "Fix `scale` to 1, corresponding to an exponential model."
   ]
  },
  {
   "cell_type": "code",
   "execution_count": 13,
   "metadata": {},
   "outputs": [
    {
     "data": {
      "text/html": [
       "<div>\n",
       "<style scoped>\n",
       "    .dataframe tbody tr th:only-of-type {\n",
       "        vertical-align: middle;\n",
       "    }\n",
       "\n",
       "    .dataframe tbody tr th {\n",
       "        vertical-align: top;\n",
       "    }\n",
       "\n",
       "    .dataframe thead th {\n",
       "        text-align: right;\n",
       "    }\n",
       "</style>\n",
       "<table border=\"1\" class=\"dataframe\">\n",
       "  <thead>\n",
       "    <tr style=\"text-align: right;\">\n",
       "      <th></th>\n",
       "      <th>coef</th>\n",
       "      <th>se</th>\n",
       "      <th>z</th>\n",
       "      <th>p</th>\n",
       "    </tr>\n",
       "  </thead>\n",
       "  <tbody>\n",
       "    <tr>\n",
       "      <th>Intercept</th>\n",
       "      <td>6.961838</td>\n",
       "      <td>1.321877</td>\n",
       "      <td>5.266629</td>\n",
       "      <td>1.389517e-07</td>\n",
       "    </tr>\n",
       "    <tr>\n",
       "      <th>ecog_ps</th>\n",
       "      <td>-0.433135</td>\n",
       "      <td>0.586994</td>\n",
       "      <td>-0.737886</td>\n",
       "      <td>4.605834e-01</td>\n",
       "    </tr>\n",
       "    <tr>\n",
       "      <th>rx</th>\n",
       "      <td>0.581503</td>\n",
       "      <td>0.586994</td>\n",
       "      <td>0.990646</td>\n",
       "      <td>3.218586e-01</td>\n",
       "    </tr>\n",
       "  </tbody>\n",
       "</table>\n",
       "</div>"
      ],
      "text/plain": [
       "               coef        se         z             p\n",
       "Intercept  6.961838  1.321877  5.266629  1.389517e-07\n",
       "ecog_ps   -0.433135  0.586994 -0.737886  4.605834e-01\n",
       "rx         0.581503  0.586994  0.990646  3.218586e-01"
      ]
     },
     "execution_count": 13,
     "metadata": {},
     "output_type": "execute_result"
    }
   ],
   "source": [
    "fit_formula('futime + fustat ~ ecog_ps + rx', ovarian, scale=1)"
   ]
  },
  {
   "cell_type": "markdown",
   "metadata": {},
   "source": [
    "Compare with the output of `survreg` in R:\n",
    "```\n",
    "Call:\n",
    "survreg(formula = Surv(futime, fustat) ~ ecog.ps + rx, data = ovarian,\n",
    "    dist = \"exponential\")\n",
    "             Value Std. Error      z        p\n",
    "(Intercept)  6.962      1.322  5.267 1.39e-07\n",
    "ecog.ps     -0.433      0.587 -0.738 4.61e-01\n",
    "rx           0.582      0.587  0.991 3.22e-01\n",
    "\n",
    "Scale fixed at 1\n",
    "\n",
    "Exponential distribution\n",
    "Loglik(model)= -97.2   Loglik(intercept only)= -98\n",
    "\tChisq= 1.67 on 2 degrees of freedom, p= 0.43\n",
    "Number of Newton-Raphson Iterations: 4\n",
    "n= 26\n",
    "```"
   ]
  }
 ],
 "metadata": {
  "kernelspec": {
   "display_name": "Python 3",
   "language": "python",
   "name": "python3"
  },
  "language_info": {
   "codemirror_mode": {
    "name": "ipython",
    "version": 3
   },
   "file_extension": ".py",
   "mimetype": "text/x-python",
   "name": "python",
   "nbconvert_exporter": "python",
   "pygments_lexer": "ipython3",
   "version": "3.6.4"
  }
 },
 "nbformat": 4,
 "nbformat_minor": 2
}
